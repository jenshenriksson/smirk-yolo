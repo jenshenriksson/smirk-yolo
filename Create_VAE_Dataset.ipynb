{
 "cells": [
  {
   "cell_type": "code",
   "execution_count": 21,
   "metadata": {},
   "outputs": [],
   "source": [
    "import pandas as pd \n",
    "import numpy as np \n",
    "import matplotlib.pyplot as plt \n",
    "import os \n",
    "from PIL import Image"
   ]
  },
  {
   "cell_type": "code",
   "execution_count": 23,
   "metadata": {},
   "outputs": [
    {
     "data": {
      "text/html": [
       "<div>\n",
       "<style scoped>\n",
       "    .dataframe tbody tr th:only-of-type {\n",
       "        vertical-align: middle;\n",
       "    }\n",
       "\n",
       "    .dataframe tbody tr th {\n",
       "        vertical-align: top;\n",
       "    }\n",
       "\n",
       "    .dataframe thead th {\n",
       "        text-align: right;\n",
       "    }\n",
       "</style>\n",
       "<table border=\"1\" class=\"dataframe\">\n",
       "  <thead>\n",
       "    <tr style=\"text-align: right;\">\n",
       "      <th></th>\n",
       "      <th>file</th>\n",
       "      <th>frame_index</th>\n",
       "      <th>image_width</th>\n",
       "      <th>image_height</th>\n",
       "      <th>x_min</th>\n",
       "      <th>x_max</th>\n",
       "      <th>y_min</th>\n",
       "      <th>y_max</th>\n",
       "      <th>is_occluded</th>\n",
       "      <th>current_distance</th>\n",
       "      <th>class_text</th>\n",
       "      <th>run_id</th>\n",
       "      <th>scenario_type</th>\n",
       "      <th>object_type</th>\n",
       "      <th>start_distance_from_car</th>\n",
       "      <th>speed</th>\n",
       "      <th>angle</th>\n",
       "      <th>offset_from_road_center</th>\n",
       "    </tr>\n",
       "  </thead>\n",
       "  <tbody>\n",
       "    <tr>\n",
       "      <th>0</th>\n",
       "      <td>qFaN520H78j9p7FUN0gv5/cam000001.png</td>\n",
       "      <td>1</td>\n",
       "      <td>752</td>\n",
       "      <td>480</td>\n",
       "      <td>NaN</td>\n",
       "      <td>NaN</td>\n",
       "      <td>NaN</td>\n",
       "      <td>NaN</td>\n",
       "      <td>False</td>\n",
       "      <td>12.68</td>\n",
       "      <td>background</td>\n",
       "      <td>qFaN520H78j9p7FUN0gv5</td>\n",
       "      <td>left</td>\n",
       "      <td>cylinder</td>\n",
       "      <td>10</td>\n",
       "      <td>4</td>\n",
       "      <td>90</td>\n",
       "      <td>NaN</td>\n",
       "    </tr>\n",
       "    <tr>\n",
       "      <th>1</th>\n",
       "      <td>qFaN520H78j9p7FUN0gv5/cam000002.png</td>\n",
       "      <td>2</td>\n",
       "      <td>752</td>\n",
       "      <td>480</td>\n",
       "      <td>NaN</td>\n",
       "      <td>NaN</td>\n",
       "      <td>NaN</td>\n",
       "      <td>NaN</td>\n",
       "      <td>False</td>\n",
       "      <td>12.63</td>\n",
       "      <td>background</td>\n",
       "      <td>qFaN520H78j9p7FUN0gv5</td>\n",
       "      <td>left</td>\n",
       "      <td>cylinder</td>\n",
       "      <td>10</td>\n",
       "      <td>4</td>\n",
       "      <td>90</td>\n",
       "      <td>NaN</td>\n",
       "    </tr>\n",
       "    <tr>\n",
       "      <th>2</th>\n",
       "      <td>qFaN520H78j9p7FUN0gv5/cam000003.png</td>\n",
       "      <td>3</td>\n",
       "      <td>752</td>\n",
       "      <td>480</td>\n",
       "      <td>NaN</td>\n",
       "      <td>NaN</td>\n",
       "      <td>NaN</td>\n",
       "      <td>NaN</td>\n",
       "      <td>False</td>\n",
       "      <td>12.54</td>\n",
       "      <td>background</td>\n",
       "      <td>qFaN520H78j9p7FUN0gv5</td>\n",
       "      <td>left</td>\n",
       "      <td>cylinder</td>\n",
       "      <td>10</td>\n",
       "      <td>4</td>\n",
       "      <td>90</td>\n",
       "      <td>NaN</td>\n",
       "    </tr>\n",
       "    <tr>\n",
       "      <th>3</th>\n",
       "      <td>qFaN520H78j9p7FUN0gv5/cam000004.png</td>\n",
       "      <td>4</td>\n",
       "      <td>752</td>\n",
       "      <td>480</td>\n",
       "      <td>NaN</td>\n",
       "      <td>NaN</td>\n",
       "      <td>NaN</td>\n",
       "      <td>NaN</td>\n",
       "      <td>False</td>\n",
       "      <td>12.42</td>\n",
       "      <td>background</td>\n",
       "      <td>qFaN520H78j9p7FUN0gv5</td>\n",
       "      <td>left</td>\n",
       "      <td>cylinder</td>\n",
       "      <td>10</td>\n",
       "      <td>4</td>\n",
       "      <td>90</td>\n",
       "      <td>NaN</td>\n",
       "    </tr>\n",
       "    <tr>\n",
       "      <th>4</th>\n",
       "      <td>qFaN520H78j9p7FUN0gv5/cam000005.png</td>\n",
       "      <td>5</td>\n",
       "      <td>752</td>\n",
       "      <td>480</td>\n",
       "      <td>NaN</td>\n",
       "      <td>NaN</td>\n",
       "      <td>NaN</td>\n",
       "      <td>NaN</td>\n",
       "      <td>False</td>\n",
       "      <td>12.28</td>\n",
       "      <td>background</td>\n",
       "      <td>qFaN520H78j9p7FUN0gv5</td>\n",
       "      <td>left</td>\n",
       "      <td>cylinder</td>\n",
       "      <td>10</td>\n",
       "      <td>4</td>\n",
       "      <td>90</td>\n",
       "      <td>NaN</td>\n",
       "    </tr>\n",
       "  </tbody>\n",
       "</table>\n",
       "</div>"
      ],
      "text/plain": [
       "                                  file  frame_index  image_width  \\\n",
       "0  qFaN520H78j9p7FUN0gv5/cam000001.png            1          752   \n",
       "1  qFaN520H78j9p7FUN0gv5/cam000002.png            2          752   \n",
       "2  qFaN520H78j9p7FUN0gv5/cam000003.png            3          752   \n",
       "3  qFaN520H78j9p7FUN0gv5/cam000004.png            4          752   \n",
       "4  qFaN520H78j9p7FUN0gv5/cam000005.png            5          752   \n",
       "\n",
       "   image_height  x_min  x_max  y_min  y_max  is_occluded  current_distance  \\\n",
       "0           480    NaN    NaN    NaN    NaN        False             12.68   \n",
       "1           480    NaN    NaN    NaN    NaN        False             12.63   \n",
       "2           480    NaN    NaN    NaN    NaN        False             12.54   \n",
       "3           480    NaN    NaN    NaN    NaN        False             12.42   \n",
       "4           480    NaN    NaN    NaN    NaN        False             12.28   \n",
       "\n",
       "   class_text                 run_id scenario_type object_type  \\\n",
       "0  background  qFaN520H78j9p7FUN0gv5          left    cylinder   \n",
       "1  background  qFaN520H78j9p7FUN0gv5          left    cylinder   \n",
       "2  background  qFaN520H78j9p7FUN0gv5          left    cylinder   \n",
       "3  background  qFaN520H78j9p7FUN0gv5          left    cylinder   \n",
       "4  background  qFaN520H78j9p7FUN0gv5          left    cylinder   \n",
       "\n",
       "   start_distance_from_car  speed  angle  offset_from_road_center  \n",
       "0                       10      4     90                      NaN  \n",
       "1                       10      4     90                      NaN  \n",
       "2                       10      4     90                      NaN  \n",
       "3                       10      4     90                      NaN  \n",
       "4                       10      4     90                      NaN  "
      ]
     },
     "execution_count": 23,
     "metadata": {},
     "output_type": "execute_result"
    }
   ],
   "source": [
    "# Location of repo's / files\n",
    "# label_file = '../Data/Development/inliers/male_casual/labels.csv'\n",
    "# label_file = '../Data/Development/inliers/female_business/labels.csv'\n",
    "# dataset = '../Data/Development/inliers/' \n",
    "\n",
    "\n",
    "label_file = '../Data/non-pedestrian/images/cylinder/labels.csv'\n",
    "dataset = '../Data/non-pedestrian/' \n",
    "\n",
    "# Read in data, and print example's \n",
    "df = pd.read_csv(label_file)\n",
    "df.head()"
   ]
  },
  {
   "cell_type": "code",
   "execution_count": 24,
   "metadata": {},
   "outputs": [],
   "source": [
    "import tqdm.notebook as tq"
   ]
  },
  {
   "cell_type": "code",
   "execution_count": 25,
   "metadata": {},
   "outputs": [],
   "source": [
    "dataset_name = 'vae_outliers'\n",
    "if not os.path.isdir(dataset_name): \n",
    "    os.mkdir(dataset_name)"
   ]
  },
  {
   "cell_type": "code",
   "execution_count": 26,
   "metadata": {},
   "outputs": [],
   "source": [
    "def find_dimension(val):\n",
    "    x = 64\n",
    "    while (val // x > 0) and x < 256: x*=2\n",
    "    return x"
   ]
  },
  {
   "cell_type": "code",
   "execution_count": 32,
   "metadata": {},
   "outputs": [
    {
     "data": {
      "application/vnd.jupyter.widget-view+json": {
       "model_id": "52d91ed73a864e9183ee62b141b0ebfd",
       "version_major": 2,
       "version_minor": 0
      },
      "text/plain": [
       "HBox(children=(FloatProgress(value=0.0, max=500.0), HTML(value='')))"
      ]
     },
     "metadata": {},
     "output_type": "display_data"
    },
    {
     "name": "stdout",
     "output_type": "stream",
     "text": [
      "\n"
     ]
    }
   ],
   "source": [
    "import time \n",
    "for index, row in tq.tqdm(df.iterrows(), total=df.shape[0]):\n",
    "    parts = row['file'].replace('\\\\','/').split('/')\n",
    "    path = os.path.join(dataset_name, 'cylinder')\n",
    "    \n",
    "    if not os.path.isdir(path): \n",
    "        os.mkdir(path)\n",
    "        \n",
    "    for part in parts:\n",
    "        path = os.path.join(path, part)\n",
    "        if not os.path.isdir(path) and not path.endswith('.png'):\n",
    "            os.mkdir(path)\n",
    "    \n",
    "        # Extract BB information\n",
    "    bounding_box = row.loc[(['x_min','x_max','y_min','y_max'])]\n",
    "    \n",
    "    # Check if they're NaN --> Take next if true. \n",
    "    if bounding_box.isnull().values.any(): \n",
    "        continue \n",
    "    else: \n",
    "        # Computing Label position \n",
    "        xmin, xmax, ymin, ymax = bounding_box.values\n",
    "        x_centre = ((xmin+xmax)//2) \n",
    "        y_centre = ((ymin+ymax)//2) \n",
    "        width = 128\n",
    "        height = 128 \n",
    "    \n",
    "        # Loading image \n",
    "        img_path = os.path.join(dataset, 'images', 'cylinder', parts[0])\n",
    "        for part in parts[1:]:\n",
    "            img_path = os.path.join(img_path, part)\n",
    "        \n",
    "        im = Image.open(img_path)\n",
    "        img_width, img_height = im.size \n",
    "        \n",
    "        \n",
    "        # Setting the points for cropped image\n",
    "        left = x_centre - width\n",
    "        top = y_centre - height\n",
    "        right = x_centre + width\n",
    "        bottom = y_centre + height \n",
    "        \n",
    "        # Correct crop if it is out of bounds\n",
    "        if left < 0: \n",
    "            right = right - left \n",
    "            left = 0\n",
    "        elif right > img_width: \n",
    "            left = left - (right - img_width)\n",
    "            right = img_width\n",
    "        \n",
    "        if top < 0: \n",
    "            bottom = bottom - top \n",
    "            top = 0\n",
    "        elif bottom > img_height: \n",
    "            top = top - (bottom - img_height)\n",
    "            bottom = img_height\n",
    "\n",
    "        # Save image \n",
    "        im1 = im.crop((left, top, right, bottom))\n",
    "        im1.save(path)\n"
   ]
  },
  {
   "cell_type": "code",
   "execution_count": 26,
   "metadata": {},
   "outputs": [
    {
     "data": {
      "text/plain": [
       "'vae_dataset\\\\male_casual\\\\iCg8fMTLyEahuVnQ0Hp2C\\\\cam000027.png'"
      ]
     },
     "execution_count": 26,
     "metadata": {},
     "output_type": "execute_result"
    }
   ],
   "source": [
    "os.path.join(path)"
   ]
  },
  {
   "cell_type": "code",
   "execution_count": 15,
   "metadata": {},
   "outputs": [
    {
     "data": {
      "text/plain": [
       "'../Data/Development/images'"
      ]
     },
     "execution_count": 15,
     "metadata": {},
     "output_type": "execute_result"
    }
   ],
   "source": [
    "dataset"
   ]
  },
  {
   "cell_type": "code",
   "execution_count": 13,
   "metadata": {},
   "outputs": [
    {
     "name": "stdout",
     "output_type": "stream",
     "text": [
      "../Data/Development/inliers/female_business\\images\\VpFfsBKEtFllhmpRK9mFv\\cam000001.png\n"
     ]
    }
   ],
   "source": [
    "parts = row['file'].replace('\\\\','/').split('/')\n",
    "path = os.path.join(dataset, parts[0], 'images')\n",
    "for part in parts[1:]:\n",
    "    path = os.path.join(path, part)\n",
    "print(path)"
   ]
  },
  {
   "cell_type": "code",
   "execution_count": 14,
   "metadata": {},
   "outputs": [],
   "source": []
  },
  {
   "cell_type": "code",
   "execution_count": null,
   "metadata": {},
   "outputs": [],
   "source": []
  },
  {
   "cell_type": "code",
   "execution_count": null,
   "metadata": {},
   "outputs": [],
   "source": []
  },
  {
   "cell_type": "code",
   "execution_count": null,
   "metadata": {},
   "outputs": [],
   "source": []
  },
  {
   "cell_type": "code",
   "execution_count": null,
   "metadata": {},
   "outputs": [],
   "source": []
  },
  {
   "cell_type": "code",
   "execution_count": null,
   "metadata": {},
   "outputs": [],
   "source": []
  },
  {
   "cell_type": "code",
   "execution_count": null,
   "metadata": {},
   "outputs": [],
   "source": []
  },
  {
   "cell_type": "code",
   "execution_count": null,
   "metadata": {},
   "outputs": [],
   "source": []
  }
 ],
 "metadata": {
  "kernelspec": {
   "display_name": "Python 3",
   "language": "python",
   "name": "python3"
  },
  "language_info": {
   "codemirror_mode": {
    "name": "ipython",
    "version": 3
   },
   "file_extension": ".py",
   "mimetype": "text/x-python",
   "name": "python",
   "nbconvert_exporter": "python",
   "pygments_lexer": "ipython3",
   "version": "3.8.1"
  }
 },
 "nbformat": 4,
 "nbformat_minor": 5
}
